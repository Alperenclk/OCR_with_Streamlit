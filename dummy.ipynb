{
 "cells": [
  {
   "cell_type": "code",
   "execution_count": 29,
   "metadata": {},
   "outputs": [],
   "source": [
    "import numpy as np\n",
    "from doctr.models import ocr_predictor\n",
    "from doctr.io import DocumentFile\n",
    "from PIL import Image\n",
    "\n",
    "model = ocr_predictor(\"db_resnet50\", \"crnn_vgg16_bn\", pretrained=True)\n",
    "img = \"wi_800.jpg\"\n",
    "single_img_doc = DocumentFile.from_images(img)\n",
    "\n",
    "result = model(single_img_doc)\n",
    "json_output = result.export()"
   ]
  },
  {
   "cell_type": "code",
   "execution_count": 44,
   "metadata": {},
   "outputs": [
    {
     "name": "stdout",
     "output_type": "stream",
     "text": [
      "Walter\n",
      "J.Ong\n",
      "Sozluve\n",
      "Yazili\n",
      "Kultur\n",
      "SOZON\n",
      "TEKNOLOJILESMESI\n",
      "metis\n",
      "o\n"
     ]
    }
   ],
   "source": [
    "for i in json_output[\"pages\"][0][\"blocks\"]:\n",
    "    for j in i[\"lines\"]:\n",
    "        for k in j['words']:\n",
    "            print(k[\"value\"])\n",
    "    \n"
   ]
  },
  {
   "cell_type": "code",
   "execution_count": 23,
   "metadata": {},
   "outputs": [
    {
     "name": "stderr",
     "output_type": "stream",
     "text": [
      "WARNING:root:unable to load recommended font family. Loading default PIL font,font size issues may be expected.To prevent this, it is recommended to specify the value of 'font_family'.\n",
      "WARNING:root:unable to load recommended font family. Loading default PIL font,font size issues may be expected.To prevent this, it is recommended to specify the value of 'font_family'.\n",
      "WARNING:root:unable to load recommended font family. Loading default PIL font,font size issues may be expected.To prevent this, it is recommended to specify the value of 'font_family'.\n",
      "WARNING:root:unable to load recommended font family. Loading default PIL font,font size issues may be expected.To prevent this, it is recommended to specify the value of 'font_family'.\n",
      "WARNING:root:unable to load recommended font family. Loading default PIL font,font size issues may be expected.To prevent this, it is recommended to specify the value of 'font_family'.\n",
      "WARNING:root:unable to load recommended font family. Loading default PIL font,font size issues may be expected.To prevent this, it is recommended to specify the value of 'font_family'.\n",
      "WARNING:root:unable to load recommended font family. Loading default PIL font,font size issues may be expected.To prevent this, it is recommended to specify the value of 'font_family'.\n",
      "WARNING:root:unable to load recommended font family. Loading default PIL font,font size issues may be expected.To prevent this, it is recommended to specify the value of 'font_family'.\n",
      "WARNING:root:unable to load recommended font family. Loading default PIL font,font size issues may be expected.To prevent this, it is recommended to specify the value of 'font_family'.\n"
     ]
    },
    {
     "data": {
      "image/png": "[encoded data removed]",
      "text/plain": [
       "<Figure size 640x480 with 1 Axes>"
      ]
     },
     "metadata": {},
     "output_type": "display_data"
    }
   ],
   "source": [
    "import matplotlib.pyplot as plt\n",
    "\n",
    "synthetic_pages = result.synthesize()\n",
    "plt.imshow(synthetic_pages[0]); plt.axis('off'); plt.show()"
   ]
  },
  {
   "cell_type": "code",
   "execution_count": 28,
   "metadata": {},
   "outputs": [
    {
     "ename": "AttributeError",
     "evalue": "'Page' object has no attribute 'predictions'",
     "output_type": "error",
     "traceback": [
      "\u001b[1;31m---------------------------------------------------------------------------\u001b[0m",
      "\u001b[1;31mAttributeError\u001b[0m                            Traceback (most recent call last)",
      "Cell \u001b[1;32mIn[28], line 11\u001b[0m\n\u001b[0;32m      8\u001b[0m \u001b[38;5;66;03m# Analyze\u001b[39;00m\n\u001b[0;32m      9\u001b[0m result \u001b[38;5;241m=\u001b[39m model(doc)\n\u001b[1;32m---> 11\u001b[0m predictions \u001b[38;5;241m=\u001b[39m \u001b[43mresult\u001b[49m\u001b[38;5;241;43m.\u001b[39;49m\u001b[43mpages\u001b[49m\u001b[43m[\u001b[49m\u001b[38;5;241;43m0\u001b[39;49m\u001b[43m]\u001b[49m\u001b[38;5;241;43m.\u001b[39;49m\u001b[43mpredictions\u001b[49m\n\u001b[0;32m     12\u001b[0m \u001b[38;5;28;01mfor\u001b[39;00m class_name \u001b[38;5;129;01min\u001b[39;00m predictions\u001b[38;5;241m.\u001b[39mkeys():\n\u001b[0;32m     13\u001b[0m     list_predictions \u001b[38;5;241m=\u001b[39m predictions[class_name]\n",
      "\u001b[1;31mAttributeError\u001b[0m: 'Page' object has no attribute 'predictions'"
     ]
    }
   ],
   "source": [
    "from doctr.io import DocumentFile\n",
    "from doctr.models import kie_predictor\n",
    "\n",
    "# Model\n",
    "model = kie_predictor(det_arch='db_resnet50', reco_arch='crnn_vgg16_bn', pretrained=True)\n",
    "# PDF\n",
    "doc = DocumentFile.from_images(img)\n",
    "# Analyze\n",
    "result = model(doc)\n",
    "\n",
    "predictions = result.pages[0].predictions\n",
    "for class_name in predictions.keys():\n",
    "    list_predictions = predictions[class_name]\n",
    "    for prediction in list_predictions:\n",
    "        print(f\"Prediction for {class_name}: {prediction}\")"
   ]
  },
  {
   "cell_type": "code",
   "execution_count": 27,
   "metadata": {},
   "outputs": [
    {
     "data": {
      "text/plain": [
       "KIEDocument(\n",
       "  (pages): [KIEPage(\n",
       "    dimensions=(1235, 800)\n",
       "    (predictions): {'words': [Prediction(value='Walter', confidence=0.99, bounding_box=((0.139691162109375, 0.0634765625), (0.3371826171875, 0.0986328125))), Prediction(value='J.Ong', confidence=0.98, bounding_box=((0.326629638671875, 0.056640625), (0.53316650390625, 0.111328125))), Prediction(value='Sozluve', confidence=0.87, bounding_box=((0.13818359375, 0.1123046875), (0.438189697265625, 0.1650390625))), Prediction(value='Yazili', confidence=0.94, bounding_box=((0.44271240234375, 0.1142578125), (0.640203857421875, 0.16015625))), Prediction(value='Kultur', confidence=1.0, bounding_box=((0.646234130859375, 0.1162109375), (0.8678466796875, 0.1591796875))), Prediction(value='SOZON', confidence=0.89, bounding_box=((0.145721435546875, 0.1787109375), (0.2587890625, 0.2080078125))), Prediction(value='TEKNOLOJILESMESI', confidence=0.55, bounding_box=((0.26180419921875, 0.181640625), (0.558795166015625, 0.208984375))), Prediction(value='metis', confidence=0.92, bounding_box=((0.23165283203124998, 0.9140625), (0.343212890625, 0.9404296875))), Prediction(value='o', confidence=0.55, bounding_box=((0.65980224609375, 0.9404296875), (0.73216552734375, 0.9599609375)))]}\n",
       "  )]\n",
       ")"
      ]
     },
     "execution_count": 27,
     "metadata": {},
     "output_type": "execute_result"
    }
   ],
   "source": [
    "result"
   ]
  },
  {
   "cell_type": "code",
   "execution_count": null,
   "metadata": {},
   "outputs": [],
   "source": []
  }
 ],
 "metadata": {
  "kernelspec": {
   "display_name": "stenv",
   "language": "python",
   "name": "python3"
  },
  "language_info": {
   "codemirror_mode": {
    "name": "ipython",
    "version": 3
   },
   "file_extension": ".py",
   "mimetype": "text/x-python",
   "name": "python",
   "nbconvert_exporter": "python",
   "pygments_lexer": "ipython3",
   "version": "3.9.18"
  }
 },
 "nbformat": 4,
 "nbformat_minor": 2
}
